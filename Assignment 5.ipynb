{
 "cells": [
  {
   "cell_type": "code",
   "execution_count": 1,
   "id": "8f2058b0",
   "metadata": {},
   "outputs": [],
   "source": [
    "# 1. Define a function which will return Max of three numbers"
   ]
  },
  {
   "cell_type": "code",
   "execution_count": 2,
   "id": "4d266064",
   "metadata": {},
   "outputs": [],
   "source": [
    " def maxy(x,y,z):\n",
    "    if x>y or x>z:\n",
    "        return x\n",
    "    elif y>x or y>z:\n",
    "        return y\n",
    "    elif z>x or z>y:\n",
    "        return z"
   ]
  },
  {
   "cell_type": "code",
   "execution_count": 3,
   "id": "9176f99f",
   "metadata": {},
   "outputs": [
    {
     "data": {
      "text/plain": [
       "8"
      ]
     },
     "execution_count": 3,
     "metadata": {},
     "output_type": "execute_result"
    }
   ],
   "source": [
    "maxy(8,6,4)"
   ]
  },
  {
   "cell_type": "code",
   "execution_count": 4,
   "id": "d47bd2bc",
   "metadata": {},
   "outputs": [],
   "source": [
    "# 2. Define a Python Function to reverse a string."
   ]
  },
  {
   "cell_type": "code",
   "execution_count": 5,
   "id": "d040b52e",
   "metadata": {},
   "outputs": [
    {
     "data": {
      "text/plain": [
       "'scitamonnI'"
      ]
     },
     "execution_count": 5,
     "metadata": {},
     "output_type": "execute_result"
    }
   ],
   "source": [
    "def reverse(s):\n",
    "    rev=s[::-1]\n",
    "    return rev\n",
    "reverse (\"Innomatics\") "
   ]
  },
  {
   "cell_type": "code",
   "execution_count": 6,
   "id": "bd4e3f73",
   "metadata": {},
   "outputs": [],
   "source": [
    "# 3. Write a Python program to define a function that accepts 2 values"
   ]
  },
  {
   "cell_type": "code",
   "execution_count": 7,
   "id": "95fca6bd",
   "metadata": {},
   "outputs": [
    {
     "data": {
      "text/plain": [
       "(5, -1, 6)"
      ]
     },
     "execution_count": 7,
     "metadata": {},
     "output_type": "execute_result"
    }
   ],
   "source": [
    "def val(a,b):\n",
    "    return a+b,a-b,a*b\n",
    "val(2,3)"
   ]
  },
  {
   "cell_type": "code",
   "execution_count": 8,
   "id": "735cd203",
   "metadata": {},
   "outputs": [],
   "source": [
    "# 4. Define a function that accepts roll number and returns whether the student is present or absent."
   ]
  },
  {
   "cell_type": "code",
   "execution_count": 9,
   "id": "e4039019",
   "metadata": {},
   "outputs": [],
   "source": [
    "students_info={1:\"Rajesh\",2:\"Siddu\",3:\"Ameem\",4:\"Keerthi\",5:\"Manoj\",6:\"Bhagya\"}\n",
    "def attendance(*rollnum):\n",
    "    keys=students_info.keys()\n",
    "    for num in keys:\n",
    "        if num in rollnum:\n",
    "            print(\"{} is present\".format(students_info[num]))\n",
    "        else:\n",
    "            print(\"{} is abscent\".format(students_info[num]))"
   ]
  },
  {
   "cell_type": "code",
   "execution_count": 10,
   "id": "8c77d6c6",
   "metadata": {},
   "outputs": [
    {
     "name": "stdout",
     "output_type": "stream",
     "text": [
      "Rajesh is present\n",
      "Siddu is present\n",
      "Ameem is present\n",
      "Keerthi is present\n",
      "Manoj is present\n",
      "Bhagya is abscent\n"
     ]
    }
   ],
   "source": [
    "attendance(1,2,3,4,5)"
   ]
  },
  {
   "cell_type": "code",
   "execution_count": 11,
   "id": "09bb6e8a",
   "metadata": {},
   "outputs": [],
   "source": [
    "# 5. Define a function in python that accepts n values and returns the maximum of n numbers"
   ]
  },
  {
   "cell_type": "code",
   "execution_count": 12,
   "id": "aac9f58c",
   "metadata": {},
   "outputs": [],
   "source": [
    "def maxy(*num):\n",
    "    return \"Max num : {}\".format(max(num))"
   ]
  },
  {
   "cell_type": "code",
   "execution_count": 13,
   "id": "0cf113a8",
   "metadata": {},
   "outputs": [
    {
     "data": {
      "text/plain": [
       "'Max num : 99'"
      ]
     },
     "execution_count": 13,
     "metadata": {},
     "output_type": "execute_result"
    }
   ],
   "source": [
    "maxy(1,5,68,89,88,78,45,58,99)"
   ]
  },
  {
   "cell_type": "code",
   "execution_count": 14,
   "id": "75bd718f",
   "metadata": {},
   "outputs": [],
   "source": [
    "# 6. Define a function which counts vowels and consonant in a word."
   ]
  },
  {
   "cell_type": "code",
   "execution_count": 15,
   "id": "7de19425",
   "metadata": {},
   "outputs": [],
   "source": [
    "def syllable(s):\n",
    "    vowels=[\"A\",\"E\",\"I\",\"O\",\"U\",\"a\",\"e\",\"i\",\"o\",\"u\"]\n",
    "    v=0\n",
    "    c=0\n",
    "    for letters in s:\n",
    "        if letters in vowels:\n",
    "            v+=1\n",
    "        else:\n",
    "            c+=1\n",
    "    print(\"Total vowels in given string = {}\".format(v))\n",
    "    print(\"Total consonants in given string = {}\".format(c))"
   ]
  },
  {
   "cell_type": "code",
   "execution_count": 16,
   "id": "a47aac40",
   "metadata": {},
   "outputs": [
    {
     "name": "stdout",
     "output_type": "stream",
     "text": [
      "Total vowels in given string = 10\n",
      "Total consonants in given string = 13\n"
     ]
    }
   ],
   "source": [
    "syllable(\"ameemsiddurajeshkeerthi\")"
   ]
  },
  {
   "cell_type": "code",
   "execution_count": 17,
   "id": "8f3fc546",
   "metadata": {},
   "outputs": [],
   "source": [
    "# 7. Define a function that returns Factorial of a number"
   ]
  },
  {
   "cell_type": "code",
   "execution_count": 18,
   "id": "ae1d8f2d",
   "metadata": {},
   "outputs": [],
   "source": [
    "def factorial(num):\n",
    "    f=1\n",
    "    for num in range(1,num+1):\n",
    "        f*=num\n",
    "    return f"
   ]
  },
  {
   "cell_type": "code",
   "execution_count": 19,
   "id": "3180d3b3",
   "metadata": {},
   "outputs": [
    {
     "data": {
      "text/plain": [
       "120"
      ]
     },
     "execution_count": 19,
     "metadata": {},
     "output_type": "execute_result"
    }
   ],
   "source": [
    "factorial(5)"
   ]
  },
  {
   "cell_type": "code",
   "execution_count": 20,
   "id": "2dd19e20",
   "metadata": {},
   "outputs": [],
   "source": [
    "# 8. Define a function that accepts radius and returns the area of a circle."
   ]
  },
  {
   "cell_type": "code",
   "execution_count": 21,
   "id": "76f2dd73",
   "metadata": {},
   "outputs": [],
   "source": [
    "def area(rad):\n",
    "    pi=22/7\n",
    "    return pi*(rad**2)"
   ]
  },
  {
   "cell_type": "code",
   "execution_count": 22,
   "id": "086b2389",
   "metadata": {},
   "outputs": [
    {
     "data": {
      "text/plain": [
       "113.14285714285714"
      ]
     },
     "execution_count": 22,
     "metadata": {},
     "output_type": "execute_result"
    }
   ],
   "source": [
    "area(6)"
   ]
  },
  {
   "cell_type": "code",
   "execution_count": 23,
   "id": "90519759",
   "metadata": {},
   "outputs": [],
   "source": [
    "# 9. Define a function that takes a number as a parameter and check the number is prime or not."
   ]
  },
  {
   "cell_type": "code",
   "execution_count": 24,
   "id": "769cf7be",
   "metadata": {},
   "outputs": [],
   "source": [
    "def checkPrime(num):\n",
    "    if num==2 or num==3:\n",
    "        return \"{} is a prime number\".format(num)\n",
    "    for i in range(2,num-1):\n",
    "        if num%i!=0:\n",
    "            return \"{} is a prime number\".format(num)\n",
    "        else:\n",
    "            return \"The give number {} is not a prime number\".format(num)"
   ]
  },
  {
   "cell_type": "code",
   "execution_count": 25,
   "id": "82598e3f",
   "metadata": {},
   "outputs": [
    {
     "data": {
      "text/plain": [
       "'457 is a prime number'"
      ]
     },
     "execution_count": 25,
     "metadata": {},
     "output_type": "execute_result"
    }
   ],
   "source": [
    "checkPrime(457)"
   ]
  },
  {
   "cell_type": "code",
   "execution_count": 30,
   "id": "330a58d8",
   "metadata": {},
   "outputs": [],
   "source": [
    "# 10. Mary wants to run a 25-mile marathon. When she attempts to sign up for the marathon, she notices the sign-up sheet doesn't directly state the marathon's length. Instead, the marathon's length is listed in small, different portions. Help Mary find out how long the marathon actually is. So create a function that\n"
   ]
  },
  {
   "cell_type": "code",
   "execution_count": 31,
   "id": "15dd3eb5",
   "metadata": {},
   "outputs": [],
   "source": [
    "def marathon_distance(l):\n",
    "    positive=[]\n",
    "    if l==[]:\n",
    "        return False\n",
    "    for num in l:\n",
    "        if num<0:\n",
    "            num=num*(-1)\n",
    "            positive.append(num)\n",
    "        else:\n",
    "            positive.append(num)\n",
    "    if sum(positive)==25:\n",
    "        return True\n",
    "    else:\n",
    "        return False"
   ]
  },
  {
   "cell_type": "code",
   "execution_count": 32,
   "id": "21275af2",
   "metadata": {},
   "outputs": [
    {
     "data": {
      "text/plain": [
       "False"
      ]
     },
     "execution_count": 32,
     "metadata": {},
     "output_type": "execute_result"
    }
   ],
   "source": [
    "marathon_distance([1,9,5,6,2])"
   ]
  },
  {
   "cell_type": "code",
   "execution_count": 33,
   "id": "5d2ab4ae",
   "metadata": {},
   "outputs": [],
   "source": [
    "# 11. Create a function that takes a number and returns True if the number is automorphic, False if it isn't"
   ]
  },
  {
   "cell_type": "code",
   "execution_count": 34,
   "id": "496340c7",
   "metadata": {},
   "outputs": [],
   "source": [
    "def automorphic_check(n):\n",
    "    a=n**2\n",
    "    b=str(a)\n",
    "    if int(b[-1])==n:\n",
    "        return True\n",
    "    else:\n",
    "        return False"
   ]
  },
  {
   "cell_type": "code",
   "execution_count": 35,
   "id": "ac3206f5",
   "metadata": {},
   "outputs": [
    {
     "data": {
      "text/plain": [
       "True"
      ]
     },
     "execution_count": 35,
     "metadata": {},
     "output_type": "execute_result"
    }
   ],
   "source": [
    " automorphic_check(6)"
   ]
  },
  {
   "cell_type": "code",
   "execution_count": 36,
   "id": "58adcc94",
   "metadata": {},
   "outputs": [],
   "source": [
    "# 12) Create a function, that will take given a, b, c, and do the following: Add a to itself b times and Check if the result is divisible by c. and return true if it is divisible by c or false"
   ]
  },
  {
   "cell_type": "code",
   "execution_count": 37,
   "id": "e3674386",
   "metadata": {},
   "outputs": [],
   "source": [
    "def check(a,b,c):\n",
    "    new=[]\n",
    "    for num in range(b):\n",
    "        new.append(a)\n",
    "    if sum(new)%c==0:\n",
    "        return True\n",
    "    else:\n",
    "        return False"
   ]
  },
  {
   "cell_type": "code",
   "execution_count": 38,
   "id": "19f54742",
   "metadata": {},
   "outputs": [
    {
     "data": {
      "text/plain": [
       "True"
      ]
     },
     "execution_count": 38,
     "metadata": {},
     "output_type": "execute_result"
    }
   ],
   "source": [
    "check(1,2,2)"
   ]
  },
  {
   "cell_type": "code",
   "execution_count": 39,
   "id": "01290454",
   "metadata": {},
   "outputs": [],
   "source": [
    "# 13) Create a function that changes specific words into emoticons. Given a sentence as a string, replace the words smile, grin, sad and mad with their corresponding emoticons.\n"
   ]
  },
  {
   "cell_type": "code",
   "execution_count": 40,
   "id": "8edac5c3",
   "metadata": {},
   "outputs": [],
   "source": [
    "def emoticons(s):\n",
    "    sep=s.split()\n",
    "    dic={\"smile\":\":D\",\"grin\":\":)\",\"sad\":\":(\",\"mad\":\":P\"}\n",
    "    keys=dic.keys()\n",
    "    for items in sep:\n",
    "        if items in keys:\n",
    "            change=s.replace(items,dic[items])\n",
    "            print(change)"
   ]
  },
  {
   "cell_type": "code",
   "execution_count": 41,
   "id": "04f3bae2",
   "metadata": {},
   "outputs": [
    {
     "name": "stdout",
     "output_type": "stream",
     "text": [
      "I am :(\n"
     ]
    }
   ],
   "source": [
    "emoticons(\"I am sad\")"
   ]
  },
  {
   "cell_type": "code",
   "execution_count": 42,
   "id": "7cbb209a",
   "metadata": {},
   "outputs": [
    {
     "name": "stdout",
     "output_type": "stream",
     "text": [
      "I am :P at you\n"
     ]
    }
   ],
   "source": [
    "emoticons(\"I am mad at you\")"
   ]
  },
  {
   "cell_type": "code",
   "execution_count": 43,
   "id": "1a8b92e3",
   "metadata": {},
   "outputs": [],
   "source": [
    "# 14) Write a Python program to square and cube every number in a given list of integers using Lambda"
   ]
  },
  {
   "cell_type": "code",
   "execution_count": 44,
   "id": "b6886004",
   "metadata": {},
   "outputs": [
    {
     "name": "stdout",
     "output_type": "stream",
     "text": [
      "Squares : [16, 4]\n",
      "Cubes : [64, 8]\n"
     ]
    }
   ],
   "source": [
    "li=[4,2]\n",
    "x=list(map(lambda x:x**2,li))\n",
    "y=list(map(lambda y:y**3,li))\n",
    "print(\"Squares : {}\".format(x))\n",
    "print(\"Cubes : {}\".format(y))"
   ]
  },
  {
   "cell_type": "code",
   "execution_count": 46,
   "id": "1d8e8873",
   "metadata": {},
   "outputs": [],
   "source": [
    "# 15. Write a Python program to check whether a given string is number or not using Lambd"
   ]
  },
  {
   "cell_type": "code",
   "execution_count": 47,
   "id": "f3a14030",
   "metadata": {},
   "outputs": [
    {
     "data": {
      "text/plain": [
       "True"
      ]
     },
     "execution_count": 47,
     "metadata": {},
     "output_type": "execute_result"
    }
   ],
   "source": [
    "check=lambda s:s.isdigit()\n",
    "check(\"143\")"
   ]
  },
  {
   "cell_type": "code",
   "execution_count": null,
   "id": "66388835",
   "metadata": {},
   "outputs": [],
   "source": []
  }
 ],
 "metadata": {
  "kernelspec": {
   "display_name": "Python 3 (ipykernel)",
   "language": "python",
   "name": "python3"
  },
  "language_info": {
   "codemirror_mode": {
    "name": "ipython",
    "version": 3
   },
   "file_extension": ".py",
   "mimetype": "text/x-python",
   "name": "python",
   "nbconvert_exporter": "python",
   "pygments_lexer": "ipython3",
   "version": "3.9.13"
  }
 },
 "nbformat": 4,
 "nbformat_minor": 5
}
